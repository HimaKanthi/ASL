{
 "cells": [
  {
   "cell_type": "code",
   "execution_count": 1,
   "metadata": {},
   "outputs": [],
   "source": [
    "import numpy as np\n",
    "import pandas as pd\n",
    "import cv2 as cv2\n",
    "import matplotlib.pyplot as plt\n",
    "import seaborn as sns\n",
    "import keras\n",
    "from keras.models import load_model\n",
    "from PIL import Image,ImageOps"
   ]
  },
  {
   "cell_type": "code",
   "execution_count": 2,
   "metadata": {},
   "outputs": [],
   "source": [
    "model=load_model('model.h5')"
   ]
  },
  {
   "cell_type": "code",
   "execution_count": 4,
   "metadata": {},
   "outputs": [],
   "source": [
    "def output(n):\n",
    "    if n>0 and n<=25:\n",
    "        return chr(65+n)\n",
    "    elif n==26:\n",
    "        return \"nothing\"\n",
    "    elif n==27:\n",
    "        return \"space\"\n",
    "    else:\n",
    "        return \"delete\""
   ]
  },
  {
   "cell_type": "code",
   "execution_count": 8,
   "metadata": {},
   "outputs": [],
   "source": [
    "font=cv2.FONT_HERSHEY_SIMPLEX"
   ]
  },
  {
   "cell_type": "code",
   "execution_count": 9,
   "metadata": {},
   "outputs": [],
   "source": [
    "cap = cv2.VideoCapture(0)\n",
    "while True:\n",
    "\n",
    "    # Read each frame from the webcam\n",
    "    _, frame = cap.read()\n",
    "    x , y, c = frame.shape\n",
    "\n",
    "    img = cv2.cvtColor(frame, cv2.COLOR_BGR2GRAY)\n",
    "    img=cv2.resize(img,(64,64))\n",
    "    img=np.asarray(img)\n",
    "    img=img.reshape((64,64,1))\n",
    "    test=[]\n",
    "    test.append(img)\n",
    "    test=np.array(test)\n",
    "    test=test/255\n",
    "    predict_x=model.predict(test) \n",
    "    classes_x=np.argmax(predict_x,axis=1)\n",
    "\n",
    "    pred=output(classes_x[0])\n",
    "\n",
    "\n",
    "    # Flip the frame vertically\n",
    "    frame = cv2.flip(frame, 1)\n",
    "    # Show the final output\n",
    "\n",
    "    cv2.putText(frame, pred, (50, 50), font, 1, (255, 255, 255), 2)\n",
    "\n",
    "    cv2.imshow(\"Output\", frame)\n",
    "    if cv2.waitKey(1) == ord('q'):\n",
    "            break\n",
    "# release the webcam and destroy all active windows\n",
    "cap.release()\n",
    "cv2.destroyAllWindows()"
   ]
  },
  {
   "cell_type": "code",
   "execution_count": null,
   "metadata": {},
   "outputs": [],
   "source": []
  }
 ],
 "metadata": {
  "interpreter": {
   "hash": "ad8cd5cc70cfbc1e762e80d7be364bc1ca38755aa9ce187d53addc0046b448e9"
  },
  "kernelspec": {
   "display_name": "Python 3.9.5 64-bit ('asl': venv)",
   "language": "python",
   "name": "python3"
  },
  "language_info": {
   "codemirror_mode": {
    "name": "ipython",
    "version": 3
   },
   "file_extension": ".py",
   "mimetype": "text/x-python",
   "name": "python",
   "nbconvert_exporter": "python",
   "pygments_lexer": "ipython3",
   "version": "3.9.5"
  },
  "orig_nbformat": 4
 },
 "nbformat": 4,
 "nbformat_minor": 2
}
